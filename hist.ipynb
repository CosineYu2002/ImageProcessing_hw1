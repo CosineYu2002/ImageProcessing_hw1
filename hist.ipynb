{
 "cells": [
  {
   "cell_type": "code",
   "execution_count": null,
   "metadata": {},
   "outputs": [],
   "source": [
    "import cv2\n",
    "import numpy as np\n",
    "import matplotlib.pyplot as plt"
   ]
  },
  {
   "cell_type": "markdown",
   "metadata": {},
   "source": [
    "Read the input picture and transform to the HSV."
   ]
  },
  {
   "cell_type": "code",
   "execution_count": null,
   "metadata": {},
   "outputs": [],
   "source": [
    "src = cv2.imread('input.png')\n",
    "image = cv2.cvtColor(src, cv2.COLOR_BGR2HSV)\n",
    "H, S, V = cv2.split(image)"
   ]
  },
  {
   "cell_type": "markdown",
   "metadata": {},
   "source": [
    "Find the pdf, cdf and normalized it."
   ]
  },
  {
   "cell_type": "code",
   "execution_count": null,
   "metadata": {},
   "outputs": [],
   "source": [
    "hist, bins = np.histogram(V.flatten(), 256, (0, 256))\n",
    "cdf_original = hist.cumsum()\n",
    "cdf_normalized = (\n",
    "    (\n",
    "        (\n",
    "            (\n",
    "                (cdf_original - cdf_original.min())\n",
    "                / (cdf_original.max() - cdf_original.min())\n",
    "            )\n",
    "            * 255\n",
    "        )\n",
    "    )\n",
    "    .round()\n",
    "    .astype(\"uint8\")\n",
    ")\n",
    "pdf_original = hist / hist.sum()"
   ]
  },
  {
   "cell_type": "markdown",
   "metadata": {},
   "source": [
    "Map the original pixels to the new intensity."
   ]
  },
  {
   "cell_type": "code",
   "execution_count": null,
   "metadata": {},
   "outputs": [],
   "source": [
    "V_equalized = cdf_normalized[V]\n",
    "hist, bins = np.histogram(V_equalized.flatten(), 256, (0, 256))\n",
    "cdf_equalized = hist.cumsum()\n",
    "pdf_equalized = hist / hist.sum()"
   ]
  },
  {
   "cell_type": "markdown",
   "metadata": {},
   "source": [
    "Show the result"
   ]
  },
  {
   "cell_type": "code",
   "execution_count": null,
   "metadata": {},
   "outputs": [],
   "source": [
    "image_equalized = cv2.merge([H, S, V_equalized])\n",
    "image_equalized = cv2.cvtColor(image_equalized, cv2.COLOR_HSV2BGR)\n",
    "cv2.imwrite(\"output.png\", image_equalized)\n",
    "image_rbg = cv2.cvtColor(image, cv2.COLOR_HSV2RGB)\n",
    "image_equalized_rgb = cv2.cvtColor(image_equalized, cv2.COLOR_BGR2RGB)\n",
    "fig, axs = plt.subplots(2, 2, layout=\"tight\")\n",
    "\n",
    "ax = axs[0, 0]\n",
    "ax.imshow(image_rbg)\n",
    "ax.set_title(\"Original Image\")\n",
    "ax.axis(\"off\")\n",
    "\n",
    "ax = axs[0, 1]\n",
    "ax.plot(pdf_original)\n",
    "ax.set_title(\"Original PDF\")\n",
    "\n",
    "ax = axs[1, 0]\n",
    "ax.imshow(image_equalized_rgb)\n",
    "ax.set_title(\"Equalized Image\")\n",
    "ax.axis(\"off\")\n",
    "\n",
    "ax = axs[1, 1]\n",
    "ax.plot(pdf_equalized)\n",
    "ax.set_title(\"Equalized PDF\")\n",
    "\n",
    "fig.savefig('result.png', dpi=300, bbox_inches=\"tight\")\n",
    "plt.show()"
   ]
  },
  {
   "cell_type": "markdown",
   "metadata": {},
   "source": [
    "Generate the 2D histogram of H and S channel"
   ]
  },
  {
   "cell_type": "code",
   "execution_count": null,
   "metadata": {},
   "outputs": [],
   "source": [
    "hist_2d, x_edges, y_edges = np.histogram2d(\n",
    "    H.flatten(), S.flatten(), bins=(180, 256), range=[[0, 180], [0, 256]]\n",
    ")\n",
    "plt.figure(figsize=(10, 5))\n",
    "plt.imshow(\n",
    "    hist_2d.T,\n",
    "    origin=\"lower\",\n",
    "    cmap=\"hot\",\n",
    "    interpolation=\"nearest\",\n",
    "    extent=[0, 180, 0, 256],\n",
    ")\n",
    "plt.colorbar(label='Frequency')\n",
    "plt.xlabel(\"Hue\")\n",
    "plt.ylabel(\"Saturation\")\n",
    "plt.title(\"2D Histogram of H and S Channels\")\n",
    "plt.savefig('2d_histogram.png', dpi=300, bbox_inches='tight')\n",
    "plt.show()"
   ]
  }
 ],
 "metadata": {
  "kernelspec": {
   "display_name": "venv",
   "language": "python",
   "name": "python3"
  },
  "language_info": {
   "codemirror_mode": {
    "name": "ipython",
    "version": 3
   },
   "file_extension": ".py",
   "mimetype": "text/x-python",
   "name": "python",
   "nbconvert_exporter": "python",
   "pygments_lexer": "ipython3",
   "version": "3.12.3"
  }
 },
 "nbformat": 4,
 "nbformat_minor": 2
}
